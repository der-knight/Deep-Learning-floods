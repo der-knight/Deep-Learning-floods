{
 "cells": [
  {
   "cell_type": "code",
   "execution_count": 1,
   "metadata": {},
   "outputs": [],
   "source": [
    "import os\n",
    "from flood_tool import *\n",
    "import numpy as np\n",
    "from tqdm import tqdm\n",
    "from joblib import Parallel, delayed\n",
    "from tensorflow.keras.models import load_model\n",
    "from tensorflow.keras.layers import Dropout\n",
    "import warnings\n",
    "warnings.filterwarnings(\"ignore\")"
   ]
  },
  {
   "cell_type": "code",
   "execution_count": 2,
   "metadata": {},
   "outputs": [],
   "source": [
    "# User Defined Inputs\n",
    "date='2020-06-10'\n",
    "geometry=[88.0,25.0,89.1,26]\n",
    "individual_probability=True # Set this to true if you want individual model probabilities tiff as well\n",
    "user_path=os.path.expanduser('~/Downloads/SAR_flood')\n",
    "# user_path=os.path.join('f:',os.sep,'dl_flood')"
   ]
  },
  {
   "cell_type": "code",
   "execution_count": 3,
   "metadata": {},
   "outputs": [
    {
     "name": "stdout",
     "output_type": "stream",
     "text": [
      "1 Physical GPUs,\n"
     ]
    }
   ],
   "source": [
    "gpu_check()"
   ]
  },
  {
   "cell_type": "code",
   "execution_count": 4,
   "metadata": {},
   "outputs": [
    {
     "name": "stdout",
     "output_type": "stream",
     "text": [
      "Earth Engine initialized.\n"
     ]
    }
   ],
   "source": [
    "Initialize()"
   ]
  },
  {
   "cell_type": "code",
   "execution_count": 5,
   "metadata": {},
   "outputs": [
    {
     "name": "stdout",
     "output_type": "stream",
     "text": [
      "C:\\Users\\nirde/Downloads/SAR_flood\\SAR_flood --> Folder exists!!!\n",
      "------------------Using existing folder!!!-----------------\n",
      "Folder not found!!!   C:\\Users\\nirde/Downloads/SAR_flood\\SAR_flood\\probability_88.0_25.0_89.1_26 created.\n",
      "------Folder Creation Done!!!--------\n"
     ]
    }
   ],
   "source": [
    "path=createDirectory(os.path.join(user_path,'SAR_flood'))\n",
    "probability_path=createDirectory(os.path.join(path,'probability_'+'_'.join([str(elem) for elem in geometry])))"
   ]
  },
  {
   "cell_type": "code",
   "execution_count": 6,
   "metadata": {},
   "outputs": [
    {
     "name": "stdout",
     "output_type": "stream",
     "text": [
      "Folder not found!!!   C:\\Users\\nirde/Downloads/SAR_flood\\SAR_flood\\gee_files88.0_25.0_89.1_26 created.\n",
      "------Folder Creation Done!!!--------\n",
      "--------------Files download getting ready ---------------------\n"
     ]
    },
    {
     "name": "stderr",
     "output_type": "stream",
     "text": [
      "Consider adjusting `region`, `scale` and/or `dtype` to reduce the s1_88.0_25.0_89.1_26.tif download size (raw: 2.18 GB).\n"
     ]
    },
    {
     "data": {
      "application/vnd.jupyter.widget-view+json": {
       "model_id": "f7584dd73eeb4eb2a6d664d8f05fecb7",
       "version_major": 2,
       "version_minor": 0
      },
      "text/plain": [
       "slope_88.0_25.0_89.1_26.tif: |          | 0.00/546M (raw) [  0.0%] in 00:00 (eta:     ?)"
      ]
     },
     "metadata": {},
     "output_type": "display_data"
    },
    {
     "data": {
      "application/vnd.jupyter.widget-view+json": {
       "model_id": "aaa9f4f4496243408a35b83400d5ec75",
       "version_major": 2,
       "version_minor": 0
      },
      "text/plain": [
       "s1_88.0_25.0_89.1_26.tif: |          | 0.00/2.18G (raw) [  0.0%] in 00:00 (eta:     ?)"
      ]
     },
     "metadata": {},
     "output_type": "display_data"
    },
    {
     "data": {
      "application/vnd.jupyter.widget-view+json": {
       "model_id": "c6c40f67adfd45478d87f7bb7280a40c",
       "version_major": 2,
       "version_minor": 0
      },
      "text/plain": [
       "jrc_88.0_25.0_89.1_26.tif: |          | 0.00/136M (raw) [  0.0%] in 00:00 (eta:     ?)"
      ]
     },
     "metadata": {},
     "output_type": "display_data"
    },
    {
     "data": {
      "application/vnd.jupyter.widget-view+json": {
       "model_id": "c67b33c83622494a94ca7486d59a5adc",
       "version_major": 2,
       "version_minor": 0
      },
      "text/plain": [
       "dem_88.0_25.0_89.1_26.tif: |          | 0.00/273M (raw) [  0.0%] in 00:00 (eta:     ?)"
      ]
     },
     "metadata": {},
     "output_type": "display_data"
    }
   ],
   "source": [
    "sentinel1,dem,slope,jrc=get_files_from_gee(date,geometry,path)\n",
    "s1_chunked,dem_chunked,slope_chunked,jrc_chunked=Parallel(n_jobs=4,backend='threading')(delayed(chunk_band)(path,file) for file in [sentinel1,dem,slope,jrc])"
   ]
  },
  {
   "cell_type": "code",
   "execution_count": null,
   "metadata": {},
   "outputs": [],
   "source": [
    "s1_chunked=os.path.join(path,'s1_89_25.0_89.1_25.1')\n",
    "dem_chunked=os.path.join(path,'dem_89_25.0_89.1_25.1')\n",
    "slope_chunked=os.path.join(path,'slope_89_25.0_89.1_25.1')\n",
    "jrc_chunked=os.path.join(path,'jrc_89_25.0_89.1_25.1')"
   ]
  },
  {
   "cell_type": "code",
   "execution_count": null,
   "metadata": {},
   "outputs": [],
   "source": [
    "location_database=get_location_database(jrc_chunked,dem_chunked,slope_chunked,s1_chunked)\n",
    "dimension_check(location_database)"
   ]
  },
  {
   "cell_type": "code",
   "execution_count": null,
   "metadata": {},
   "outputs": [],
   "source": [
    "display_input_chip(location_database)"
   ]
  },
  {
   "cell_type": "code",
   "execution_count": null,
   "metadata": {},
   "outputs": [],
   "source": [
    "model1=load_model(r'F:\\python_nb\\mod\\unet_tversky_loss_resnext50.h5',compile=False)\n",
    "model2=load_model(r'F:\\python_nb\\mod\\unet_focal_tversky_loss_resnext50.h5',compile=False)\n",
    "model3=load_model(r'F:\\python_nb\\mod\\unet_tversky_loss_efficientnetb0.h5',compile=False,custom_objects={'FixedDropout':Dropout})"
   ]
  },
  {
   "cell_type": "code",
   "execution_count": null,
   "metadata": {},
   "outputs": [],
   "source": [
    "create_output_tiff([model1,model2,model3],location_database,probability_path,individual_probability)"
   ]
  },
  {
   "cell_type": "code",
   "execution_count": null,
   "metadata": {},
   "outputs": [],
   "source": [
    "display_output_chip(probability_path)"
   ]
  },
  {
   "cell_type": "code",
   "execution_count": null,
   "metadata": {},
   "outputs": [],
   "source": [
    "create_combined_probability_tiff(probability_path)\n",
    "split_raster_bands(probability_path)"
   ]
  },
  {
   "attachments": {},
   "cell_type": "markdown",
   "metadata": {},
   "source": [
    "# Run the next code only if you want to remove all raw files"
   ]
  },
  {
   "cell_type": "code",
   "execution_count": null,
   "metadata": {},
   "outputs": [],
   "source": [
    "# remove_data(path)"
   ]
  }
 ],
 "metadata": {
  "kernelspec": {
   "display_name": "py-dl",
   "language": "python",
   "name": "python3"
  },
  "language_info": {
   "codemirror_mode": {
    "name": "ipython",
    "version": 3
   },
   "file_extension": ".py",
   "mimetype": "text/x-python",
   "name": "python",
   "nbconvert_exporter": "python",
   "pygments_lexer": "ipython3",
   "version": "3.9.16"
  },
  "orig_nbformat": 4,
  "vscode": {
   "interpreter": {
    "hash": "ca0ac24e84b24f9d611079ec1fc63c84f08abc760310a0d6c132b95aad7c463f"
   }
  }
 },
 "nbformat": 4,
 "nbformat_minor": 2
}
